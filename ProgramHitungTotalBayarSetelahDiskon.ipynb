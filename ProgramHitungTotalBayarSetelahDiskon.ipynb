{
  "nbformat": 4,
  "nbformat_minor": 0,
  "metadata": {
    "colab": {
      "provenance": []
    },
    "kernelspec": {
      "name": "python3",
      "display_name": "Python 3"
    },
    "language_info": {
      "name": "python"
    }
  },
  "cells": [
    {
      "cell_type": "code",
      "execution_count": 1,
      "metadata": {
        "colab": {
          "base_uri": "https://localhost:8080/"
        },
        "id": "lqRwGvi4oB6X",
        "outputId": "afc7c021-035a-4730-dfef-c3f830b97413"
      },
      "outputs": [
        {
          "output_type": "stream",
          "name": "stdout",
          "text": [
            "Masukkan total belanja (Rp): 1800000\n",
            "Anda mendapatkan diskon 10%!\n",
            "\n",
            "===== RINCIAN PEMBAYARAN =====\n",
            "Total Belanja : Rp1,800,000\n",
            "Diskon        : Rp180,000\n",
            "Total Bayar   : Rp1,620,000\n"
          ]
        }
      ],
      "source": [
        "# Program Hitung Total Bayar Setelah Diskon\n",
        "\n",
        "# Input total belanja\n",
        "total_belanja = float(input(\"Masukkan total belanja (Rp): \"))\n",
        "\n",
        "# Cek apakah dapat diskon\n",
        "if total_belanja > 500000:\n",
        "    diskon = 0.1 * total_belanja\n",
        "    print(\"Anda mendapatkan diskon 10%!\")\n",
        "else:\n",
        "    diskon = 0\n",
        "    print(\"Maaf, tidak ada diskon.\")\n",
        "\n",
        "# Hitung total bayar\n",
        "total_bayar = total_belanja - diskon\n",
        "\n",
        "# Tampilkan hasil\n",
        "print(\"\\n===== RINCIAN PEMBAYARAN =====\")\n",
        "print(f\"Total Belanja : Rp{total_belanja:,.0f}\")\n",
        "print(f\"Diskon        : Rp{diskon:,.0f}\")\n",
        "print(f\"Total Bayar   : Rp{total_bayar:,.0f}\")\n"
      ]
    }
  ]
}