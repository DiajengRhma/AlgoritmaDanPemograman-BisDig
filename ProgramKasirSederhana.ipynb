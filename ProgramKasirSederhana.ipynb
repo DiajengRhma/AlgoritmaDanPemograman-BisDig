{
  "nbformat": 4,
  "nbformat_minor": 0,
  "metadata": {
    "colab": {
      "provenance": []
    },
    "kernelspec": {
      "name": "python3",
      "display_name": "Python 3"
    },
    "language_info": {
      "name": "python"
    }
  },
  "cells": [
    {
      "cell_type": "code",
      "execution_count": 1,
      "metadata": {
        "colab": {
          "base_uri": "https://localhost:8080/"
        },
        "id": "2r5srb6oy92Y",
        "outputId": "1faf2164-61fc-4826-e091-d846bb59fda8"
      },
      "outputs": [
        {
          "output_type": "stream",
          "name": "stdout",
          "text": [
            "Masukkan harga barang ke-1: 140000\n",
            "Masukkan harga barang ke-2: 1200000\n",
            "Masukkan harga barang ke-3: 50000\n",
            "\n",
            "========== STRUK BELANJA ==========\n",
            "Harga 1: Rp 140,000.00\n",
            "Harga 2: Rp 1,200,000.00\n",
            "Harga 3: Rp 50,000.00\n",
            "------------------------------------\n",
            "Total bayar: Rp 1,390,000.00\n",
            "====================================\n"
          ]
        }
      ],
      "source": [
        "# ====================================================\n",
        "# Program Kasir Sederhana: Hitung Total 3 Barang\n",
        "# ====================================================\n",
        "\n",
        "# 1. Minta input harga tiga barang dari pengguna\n",
        "harga1 = float(input(\"Masukkan harga barang ke-1: \"))  # input() ambil teks, float() ubah ke angka desimal\n",
        "harga2 = float(input(\"Masukkan harga barang ke-2: \"))\n",
        "harga3 = float(input(\"Masukkan harga barang ke-3: \"))\n",
        "\n",
        "# 2. Hitung total harga\n",
        "total_harga = harga1 + harga2 + harga3  # penjumlahan sederhana\n",
        "\n",
        "# 3. Tampilkan hasil total\n",
        "print(\"\\n========== STRUK BELANJA ==========\")\n",
        "print(f\"Harga 1: Rp {harga1:,.2f}\")\n",
        "print(f\"Harga 2: Rp {harga2:,.2f}\")\n",
        "print(f\"Harga 3: Rp {harga3:,.2f}\")\n",
        "print(\"------------------------------------\")\n",
        "print(f\"Total bayar: Rp {total_harga:,.2f}\")\n",
        "print(\"====================================\")\n"
      ]
    }
  ]
}