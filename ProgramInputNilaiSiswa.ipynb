{
  "nbformat": 4,
  "nbformat_minor": 0,
  "metadata": {
    "colab": {
      "provenance": []
    },
    "kernelspec": {
      "name": "python3",
      "display_name": "Python 3"
    },
    "language_info": {
      "name": "python"
    }
  },
  "cells": [
    {
      "cell_type": "code",
      "execution_count": 1,
      "metadata": {
        "colab": {
          "base_uri": "https://localhost:8080/"
        },
        "id": "RHK9WAc-zrVT",
        "outputId": "1889c00c-dff8-475b-f9be-b9a320c786a7"
      },
      "outputs": [
        {
          "output_type": "stream",
          "name": "stdout",
          "text": [
            "Masukkan nilai siswa ke-1: 74\n",
            "Masukkan nilai siswa ke-2: 79\n",
            "Masukkan nilai siswa ke-3: 85\n",
            "Masukkan nilai siswa ke-4: 92\n",
            "Masukkan nilai siswa ke-5: 90\n",
            "\n",
            "=========================================\n",
            "Daftar Nilai Siswa: [74.0, 79.0, 85.0, 92.0, 90.0]\n",
            "Nilai tertinggi adalah: 92.0\n",
            "Didapatkan oleh siswa ke-4\n",
            "=========================================\n"
          ]
        }
      ],
      "source": [
        "# ==========================================================\n",
        "# Program untuk input nilai 5 siswa dan mencari nilai tertinggi\n",
        "# ==========================================================\n",
        "\n",
        "# 1. Buat list kosong untuk menyimpan nilai-nilai siswa\n",
        "daftar_nilai = []\n",
        "\n",
        "# 2. Gunakan perulangan untuk input nilai 5 siswa\n",
        "for i in range(5):\n",
        "    nilai = float(input(f\"Masukkan nilai siswa ke-{i+1}: \"))  # minta input, ubah ke float\n",
        "    daftar_nilai.append(nilai)  # simpan ke dalam list\n",
        "\n",
        "# 3. Cari nilai tertinggi dan posisi/indeksnya\n",
        "nilai_tertinggi = max(daftar_nilai)  # fungsi max() langsung cari nilai terbesar\n",
        "indeks_tertinggi = daftar_nilai.index(nilai_tertinggi)  # cari di urutan ke berapa\n",
        "\n",
        "# 4. Tampilkan hasil\n",
        "print(\"\\n=========================================\")\n",
        "print(\"Daftar Nilai Siswa:\", daftar_nilai)\n",
        "print(f\"Nilai tertinggi adalah: {nilai_tertinggi}\")\n",
        "print(f\"Didapatkan oleh siswa ke-{indeks_tertinggi + 1}\")\n",
        "print(\"=========================================\")\n"
      ]
    },
    {
      "cell_type": "code",
      "source": [],
      "metadata": {
        "id": "scx8SL-SzyKO"
      },
      "execution_count": null,
      "outputs": []
    }
  ]
}