{
  "nbformat": 4,
  "nbformat_minor": 0,
  "metadata": {
    "colab": {
      "provenance": []
    },
    "kernelspec": {
      "name": "python3",
      "display_name": "Python 3"
    },
    "language_info": {
      "name": "python"
    }
  },
  "cells": [
    {
      "cell_type": "code",
      "execution_count": 1,
      "metadata": {
        "colab": {
          "base_uri": "https://localhost:8080/"
        },
        "id": "QAtFdHON0FtJ",
        "outputId": "86fee327-e92f-40af-9f87-463257f791c8"
      },
      "outputs": [
        {
          "output_type": "stream",
          "name": "stdout",
          "text": [
            "Masukkan angka untuk dihitung faktorialnya: 4\n",
            "Faktorial dari 4 adalah 24\n"
          ]
        }
      ],
      "source": [
        "# ==============================================\n",
        "# Program Menghitung Faktorial dengan Rekursi\n",
        "# ==============================================\n",
        "\n",
        "# 1. Definisi fungsi rekursif\n",
        "def faktorial(n):\n",
        "    if n == 0 or n == 1:  # kondisi dasar, faktorial dari 0 atau 1 adalah 1\n",
        "        return 1\n",
        "    else:\n",
        "        return n * faktorial(n - 1)  # rekursif: n dikali faktorial dari (n-1)\n",
        "\n",
        "# 2. Input dari pengguna\n",
        "angka = int(input(\"Masukkan angka untuk dihitung faktorialnya: \"))\n",
        "\n",
        "# 3. Hitung dan tampilkan hasil\n",
        "hasil = faktorial(angka)\n",
        "print(f\"Faktorial dari {angka} adalah {hasil}\")\n"
      ]
    }
  ]
}